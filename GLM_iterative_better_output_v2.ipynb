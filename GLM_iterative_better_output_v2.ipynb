{
 "cells": [
  {
   "cell_type": "markdown",
   "id": "cf588fbb-4722-4d96-80da-7732c63fc37f",
   "metadata": {},
   "source": [
    "ITERATIVE FUNCTION"
   ]
  },
  {
   "cell_type": "markdown",
   "id": "d97985c5-9341-45cf-80b3-d8bbb6185639",
   "metadata": {},
   "source": [
    "#We have the NU as the input, and it returns Y as the output. So we want to iterate that but changing the NU"
   ]
  },
  {
   "cell_type": "code",
   "execution_count": 49,
   "id": "79773ddc-0570-493f-84ac-c473d7c189c0",
   "metadata": {},
   "outputs": [
    {
     "name": "stdout",
     "output_type": "stream",
     "text": [
      "[[[-1.03628483e-01 -2.04662202e-01 -1.59445104e-01 ... -1.46807728e-01\n",
      "    1.56423733e-01 -1.45796217e-01]\n",
      "  [-3.08300088e-01 -1.23965321e-01 -1.53410261e-01 ... -1.56024988e-01\n",
      "   -2.20939979e-02 -8.35011574e-02]\n",
      "  [-3.30197213e-01 -1.06617614e-01 -2.85030829e-01 ... -5.84570855e-02\n",
      "    1.10688592e-01  1.84368950e-03]\n",
      "  ...\n",
      "  [ 3.14788449e-02  5.18240398e-02 -6.55118634e-02 ...  1.51858762e-01\n",
      "   -1.27354205e-01 -2.88026371e-01]\n",
      "  [-2.47359643e-03 -1.86046953e-03 -2.18805271e-01 ...  2.50910127e-01\n",
      "    1.79363507e-02 -3.84552258e-01]\n",
      "  [ 4.62462581e-02 -1.16097920e-01 -1.27322161e-01 ...  2.27388688e-01\n",
      "   -6.58642601e-03 -3.31039302e-01]]\n",
      "\n",
      " [[-1.08958265e-01 -1.27623227e-01 -2.79692271e-01 ... -2.17813430e-01\n",
      "    5.73768336e-02  4.93868528e-04]\n",
      "  [ 7.97804500e-02 -2.03754119e-01 -4.07235980e-01 ... -1.78984824e-01\n",
      "    2.96103006e-02  7.65339547e-02]\n",
      "  [-2.20781370e-02 -8.56410056e-02 -4.68193700e-01 ... -1.79361599e-01\n",
      "    1.24797796e-01  1.43097372e-01]\n",
      "  ...\n",
      "  [ 5.83594074e-02  2.52452291e-01  3.66711175e-01 ...  1.88971046e-01\n",
      "    3.64820323e-01  1.98965358e-01]\n",
      "  [ 5.68222692e-02  2.08793040e-01  3.08534270e-01 ...  1.92379027e-01\n",
      "    1.84805135e-01  2.37266117e-01]\n",
      "  [ 7.04544490e-02  2.34046143e-01  3.03916041e-01 ...  1.30877009e-01\n",
      "    1.56351498e-01  1.12389900e-01]]\n",
      "\n",
      " [[ 8.12887263e-02  7.27400629e-02  4.35063338e-01 ... -1.41960620e-03\n",
      "   -2.79070547e-01 -1.57160761e-03]\n",
      "  [ 2.84749133e-02 -1.01305812e-01  5.39953821e-01 ...  1.10392890e-01\n",
      "   -1.90285529e-01 -6.83821948e-02]\n",
      "  [ 1.20216029e-01  4.38447265e-02  3.62836712e-01 ...  2.12964238e-01\n",
      "   -1.11650519e-01 -1.03999964e-01]\n",
      "  ...\n",
      "  [-1.94566850e-01  9.07097379e-02 -8.99983426e-02 ...  8.39984037e-02\n",
      "   -2.82448311e-01 -7.80913197e-02]\n",
      "  [-2.04018311e-01  1.16773108e-01 -2.40243531e-01 ...  3.61021755e-02\n",
      "   -2.23976956e-01 -6.21691800e-02]\n",
      "  [-8.63314007e-02  4.26906527e-02 -2.95564158e-01 ...  5.51224134e-02\n",
      "    6.20078687e-03  8.43629580e-02]]\n",
      "\n",
      " ...\n",
      "\n",
      " [[ 1.73156457e-01  1.34780916e-01 -5.79587563e-02 ...  8.26923711e-03\n",
      "    1.03652150e-01  5.66565102e-02]\n",
      "  [ 2.01448593e-01  6.66601214e-02 -7.09491793e-02 ...  7.00979416e-02\n",
      "    1.24985887e-01  9.61635595e-02]\n",
      "  [ 2.22059331e-01  9.21704349e-02 -3.29893086e-02 ...  3.30147987e-02\n",
      "    2.26586824e-01  4.36134075e-02]\n",
      "  ...\n",
      "  [ 3.77062425e-02  1.57931081e-01  1.64501412e-01 ...  2.84864118e-01\n",
      "    8.86902314e-02 -4.84932721e-05]\n",
      "  [ 8.66604727e-02  9.11843106e-02  1.97164555e-01 ...  1.94215412e-01\n",
      "    5.52364494e-02 -5.13120398e-02]\n",
      "  [ 1.24045425e-01  1.28028169e-01  1.77647898e-01 ...  1.71491664e-01\n",
      "    9.37390130e-02 -9.19131168e-03]]\n",
      "\n",
      " [[ 2.58223702e-02 -2.58140120e-02  1.19356555e-01 ...  1.42204308e-01\n",
      "    1.53122271e-01  1.77073184e-01]\n",
      "  [-3.15402293e-02  4.52086371e-02  8.43173970e-02 ...  1.41929217e-01\n",
      "    1.84652059e-01  1.30154763e-01]\n",
      "  [ 6.50680229e-02  5.29021022e-02  1.24853015e-01 ...  1.71235473e-01\n",
      "    2.17182053e-01  1.29225463e-01]\n",
      "  ...\n",
      "  [ 1.63801536e-01  1.31269346e-01  2.11232301e-01 ...  8.69707424e-02\n",
      "    6.99109169e-02  1.31771915e-01]\n",
      "  [ 2.82236349e-02  1.95073565e-01  1.27750937e-01 ...  4.45208126e-02\n",
      "    1.25585247e-01 -1.16973365e-02]\n",
      "  [-5.97461730e-02  7.45441096e-02  1.69843717e-01 ...  1.11938173e-01\n",
      "    1.65059788e-01 -2.34209252e-02]]\n",
      "\n",
      " [[-1.01768683e-02  3.61106901e-01 -7.74412768e-02 ...  1.48051481e-01\n",
      "   -6.30962128e-02  2.08037579e-01]\n",
      "  [-6.03850644e-02  3.04042978e-01 -2.16776669e-02 ...  1.64888942e-01\n",
      "   -1.18431136e-01  1.34301455e-01]\n",
      "  [ 6.32024768e-03  4.03137209e-01  4.67172746e-02 ...  2.06871122e-01\n",
      "   -4.85962285e-02  1.00657650e-01]\n",
      "  ...\n",
      "  [ 2.49535177e-01  3.29438614e-02  3.14224325e-01 ...  1.62136483e-01\n",
      "    2.57227797e-01  2.57132360e-01]\n",
      "  [ 1.52342304e-01 -3.41193717e-02  2.40163482e-01 ...  2.01515161e-01\n",
      "    2.60878423e-01  1.43411315e-01]\n",
      "  [ 1.61330342e-01  4.29588441e-02  2.29192395e-01 ...  1.91173651e-01\n",
      "    2.15212040e-01  1.60505367e-01]]]\n"
     ]
    }
   ],
   "source": [
    "import numpy as np\n",
    "import copy\n",
    "from itertools import product\n",
    "import scipy as sp\n",
    "import pylab as plt\n",
    "\n",
    "from scipy.stats import gamma\n",
    "\n",
    "from DMF_model import DMF_sim, DMF_parameters\n",
    "\n",
    "\n",
    "def HRF(times):\n",
    "    \"\"\" Return values for HRF at given times \"\"\"\n",
    "    # Gamma pdf for the peak\n",
    "    peak_values = gamma.pdf(times, 6)\n",
    "    # Gamma pdf for the undershoot\n",
    "    undershoot_values = gamma.pdf(times, 12)\n",
    "    # Combine them\n",
    "    values = peak_values - 0.35 * undershoot_values\n",
    "    # Scale max to 0.6\n",
    "    return values / np.max(values) * 0.6    \n",
    "    \n",
    "    # DMF parameters\n",
    "P = {}\n",
    "P = DMF_parameters(P)\n",
    "P['sigma'] = 0.02  # no noise\n",
    "\n",
    "T  = 30     # simulation time\n",
    "dt = 1e-4   # integration step\n",
    "P['T'] = T\n",
    "\n",
    "# layer specific external input\n",
    "stim_start = int(10/dt)    # start of stimulation\n",
    "stim_end   = int(20/dt)    # end of stimulation\n",
    "\n",
    "# Define the possible values for each input intensity.\n",
    "valuesI = [50, 100, 150, 200, 250, 300]\n",
    "valuesLayer = range(8)\n",
    "\n",
    "# Create an array of all possible combinations for each input\n",
    "input_combinations = list(product(valuesI, repeat=2))\n",
    "layer_combinations = list(product(valuesLayer, repeat=2))\n",
    "\n",
    "# Initialize arrays to store the results\n",
    "Y_results = []\n",
    "\n",
    "for i in range(len(input_combinations)):\n",
    "    # Update the U array based on the current population_combinations\n",
    "    U = np.zeros((int(T/dt), P['M']))\n",
    "    current_input_combination = input_combinations[i]    \n",
    "    for j in range(len(layer_combinations)):\n",
    "        current_layer_combination = layer_combinations[j]\n",
    "        U[stim_start:stim_end, current_layer_combination[0]] = current_input_combination[0]\n",
    "\n",
    "         # Simulate\n",
    "        I, H, F = DMF_sim(U, P)     # I - input current, H - membrane potential, F - firing rate\n",
    "        Y = I[int(1/dt):, :] - np.mean(I[int(0.5/dt):int(1/dt), :], axis=0)  # deviation from baseline during stimulation (and remove initial transient)\n",
    "        Y = (Y - np.min(Y)) / (np.max(Y) - np.min(Y)) * 2 - 1  # normalize Y between -1 and 1\n",
    "\n",
    "        # Append the Y values to the results\n",
    "        Y_results.append(Y)\n",
    "\n",
    "Y_results_array = np.array(Y_results)"
   ]
  },
  {
   "cell_type": "code",
   "execution_count": 26,
   "id": "5dd55ca1-f7d0-419b-9536-d7e6d9985be7",
   "metadata": {},
   "outputs": [
    {
     "name": "stdout",
     "output_type": "stream",
     "text": [
      "range(0, 36)\n"
     ]
    }
   ],
   "source": [
    "a = range(len(input_combinations))\n",
    "print(a)"
   ]
  },
  {
   "cell_type": "code",
   "execution_count": 42,
   "id": "d8686424-2a0b-4974-9a39-7412539d403d",
   "metadata": {},
   "outputs": [
    {
     "ename": "SyntaxError",
     "evalue": "invalid syntax (1341353130.py, line 12)",
     "output_type": "error",
     "traceback": [
      "\u001b[0;36m  Cell \u001b[0;32mIn[47], line 12\u001b[0;36m\u001b[0m\n\u001b[0;31m    a.class\u001b[0m\n\u001b[0m      ^\u001b[0m\n\u001b[0;31mSyntaxError\u001b[0m\u001b[0;31m:\u001b[0m invalid syntax\n"
     ]
    }
   ],
   "source": [
    "from itertools import product\n",
    "\n",
    "valuesI = [50, 100, 150, 200, 250, 300]\n",
    "input_combinations = list(product(valuesI, repeat=2))\n",
    "a = list(input_combinations)\n",
    "b = len(a)\n",
    "c = input_combinations[3]\n",
    "U = [0]*40\n",
    "for i in range(len(input_combinations)):\n",
    "    U[i] = input_combinations[i]\n",
    "    \n",
    "print(a[3])"
   ]
  },
  {
   "cell_type": "code",
   "execution_count": 50,
   "id": "95390e76-7d73-4804-9753-1c2c7faf4a8a",
   "metadata": {},
   "outputs": [
    {
     "data": {
      "text/plain": [
       "(81, 490000, 8)"
      ]
     },
     "execution_count": 50,
     "metadata": {},
     "output_type": "execute_result"
    }
   ],
   "source": [
    "Y_results_array.shape\n"
   ]
  },
  {
   "cell_type": "code",
   "execution_count": 51,
   "id": "5fb9c3ca-0221-4c17-a1a2-823af1c64d2c",
   "metadata": {},
   "outputs": [
    {
     "name": "stdout",
     "output_type": "stream",
     "text": [
      "[[0. 0. 0. ... 0. 0. 0.]\n",
      " [0. 0. 0. ... 0. 0. 0.]\n",
      " [0. 0. 0. ... 0. 0. 0.]\n",
      " ...\n",
      " [0. 0. 0. ... 0. 0. 0.]\n",
      " [0. 0. 0. ... 0. 0. 0.]\n",
      " [0. 0. 0. ... 0. 0. 0.]]\n"
     ]
    }
   ],
   "source": [
    "print(U)"
   ]
  },
  {
   "cell_type": "markdown",
   "id": "6c935c8d-45c6-4489-9e92-b391d089971d",
   "metadata": {},
   "source": [
    "Current: NU, more combinations. input ranges from 0 to 300 in incrememnts of possibly 25mA? add noise with the same combinations, sample around the value of th einput (randomly sampled as a normal distribution), \n",
    "\n",
    "Alex's notes:\n",
    "- The recording matrix needs three dimensions. Condition, Layer and Timestep of the simulation. \n",
    "- Start from 0 firing rate to 300. The intensity should be from 50 to 300 picoA.\n",
    "\n",
    "- Simulating each condition severlat times.\n",
    "- Randomize the input intensity around a normal distribution for each point. \n",
    "\t- So if the algorithm says that the input for the function is 100, instead it is:\n",
    "\t- I = 100 +- Normal Dist around 100. The error is for us to decide. Think of it ourselves. Depends on what the length of the steps are. "
   ]
  }
 ],
 "metadata": {
  "kernelspec": {
   "display_name": "Python 3 (ipykernel)",
   "language": "python",
   "name": "python3"
  },
  "language_info": {
   "codemirror_mode": {
    "name": "ipython",
    "version": 3
   },
   "file_extension": ".py",
   "mimetype": "text/x-python",
   "name": "python",
   "nbconvert_exporter": "python",
   "pygments_lexer": "ipython3",
   "version": "3.9.12"
  }
 },
 "nbformat": 4,
 "nbformat_minor": 5
}
