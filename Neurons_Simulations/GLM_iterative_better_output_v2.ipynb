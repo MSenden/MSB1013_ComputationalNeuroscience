{
 "cells": [
  {
   "cell_type": "markdown",
   "id": "cf588fbb-4722-4d96-80da-7732c63fc37f",
   "metadata": {},
   "source": [
    "ITERATIVE FUNCTION"
   ]
  },
  {
   "cell_type": "markdown",
   "id": "d97985c5-9341-45cf-80b3-d8bbb6185639",
   "metadata": {},
   "source": [
    "#We have the NU as the input, and it returns Y as the output. So we want to iterate that but changing the NU"
   ]
  },
  {
   "cell_type": "code",
   "execution_count": 1,
   "id": "79773ddc-0570-493f-84ac-c473d7c189c0",
   "metadata": {},
   "outputs": [
    {
     "ename": "KeyboardInterrupt",
     "evalue": "",
     "output_type": "error",
     "traceback": [
      "\u001b[0;31m---------------------------------------------------------------------------\u001b[0m",
      "\u001b[0;31mKeyboardInterrupt\u001b[0m                         Traceback (most recent call last)",
      "Cell \u001b[0;32mIn[1], line 56\u001b[0m\n\u001b[1;32m     54\u001b[0m U[stim_start:stim_end, current_layer_combination[\u001b[38;5;241m1\u001b[39m]] \u001b[38;5;241m=\u001b[39m current_input_combination[\u001b[38;5;241m1\u001b[39m]\n\u001b[1;32m     55\u001b[0m  \u001b[38;5;66;03m# Simulate\u001b[39;00m\n\u001b[0;32m---> 56\u001b[0m I, H, F \u001b[38;5;241m=\u001b[39m \u001b[43mDMF_sim\u001b[49m\u001b[43m(\u001b[49m\u001b[43mU\u001b[49m\u001b[43m,\u001b[49m\u001b[43m \u001b[49m\u001b[43mP\u001b[49m\u001b[43m)\u001b[49m     \u001b[38;5;66;03m# I - input current, H - membrane potential, F - firing rate\u001b[39;00m\n\u001b[1;32m     57\u001b[0m Y \u001b[38;5;241m=\u001b[39m I[\u001b[38;5;28mint\u001b[39m(\u001b[38;5;241m1\u001b[39m\u001b[38;5;241m/\u001b[39mdt):, :] \u001b[38;5;241m-\u001b[39m np\u001b[38;5;241m.\u001b[39mmean(I[\u001b[38;5;28mint\u001b[39m(\u001b[38;5;241m0.5\u001b[39m\u001b[38;5;241m/\u001b[39mdt):\u001b[38;5;28mint\u001b[39m(\u001b[38;5;241m1\u001b[39m\u001b[38;5;241m/\u001b[39mdt), :], axis\u001b[38;5;241m=\u001b[39m\u001b[38;5;241m0\u001b[39m)  \u001b[38;5;66;03m# deviation from baseline during stimulation (and remove initial transient)\u001b[39;00m\n\u001b[1;32m     58\u001b[0m Y \u001b[38;5;241m=\u001b[39m (Y \u001b[38;5;241m-\u001b[39m np\u001b[38;5;241m.\u001b[39mmin(Y)) \u001b[38;5;241m/\u001b[39m (np\u001b[38;5;241m.\u001b[39mmax(Y) \u001b[38;5;241m-\u001b[39m np\u001b[38;5;241m.\u001b[39mmin(Y)) \u001b[38;5;241m*\u001b[39m \u001b[38;5;241m2\u001b[39m \u001b[38;5;241m-\u001b[39m \u001b[38;5;241m1\u001b[39m  \u001b[38;5;66;03m# normalize Y between -1 and 1\u001b[39;00m\n",
      "File \u001b[0;32m/home/computer_classes/MSB1013_ComputationalNeuroscience/Neurons_Simulations/DMF_model.py:33\u001b[0m, in \u001b[0;36mDMF_sim\u001b[0;34m(U, P)\u001b[0m\n\u001b[1;32m     31\u001b[0m I \u001b[38;5;241m+\u001b[39m\u001b[38;5;241m=\u001b[39m np\u001b[38;5;241m.\u001b[39msqrt(dt\u001b[38;5;241m/\u001b[39mP[\u001b[38;5;124m'\u001b[39m\u001b[38;5;124mtau_s\u001b[39m\u001b[38;5;124m'\u001b[39m]) \u001b[38;5;241m*\u001b[39m P[\u001b[38;5;124m'\u001b[39m\u001b[38;5;124msigma\u001b[39m\u001b[38;5;124m'\u001b[39m] \u001b[38;5;241m*\u001b[39m np\u001b[38;5;241m.\u001b[39mrandom\u001b[38;5;241m.\u001b[39mrandn(M)\n\u001b[1;32m     32\u001b[0m H \u001b[38;5;241m+\u001b[39m\u001b[38;5;241m=\u001b[39m dt \u001b[38;5;241m*\u001b[39m ((\u001b[38;5;241m-\u001b[39mH \u001b[38;5;241m+\u001b[39m P[\u001b[38;5;124m'\u001b[39m\u001b[38;5;124mR\u001b[39m\u001b[38;5;124m'\u001b[39m]\u001b[38;5;241m*\u001b[39mI) \u001b[38;5;241m/\u001b[39m P[\u001b[38;5;124m'\u001b[39m\u001b[38;5;124mtau_m\u001b[39m\u001b[38;5;124m'\u001b[39m])\n\u001b[0;32m---> 33\u001b[0m F \u001b[38;5;241m=\u001b[39m \u001b[43mf\u001b[49m\u001b[43m(\u001b[49m\u001b[43mH\u001b[49m\u001b[43m,\u001b[49m\u001b[43m \u001b[49m\u001b[43ma\u001b[49m\u001b[38;5;241;43m=\u001b[39;49m\u001b[43mP\u001b[49m\u001b[43m[\u001b[49m\u001b[38;5;124;43m'\u001b[39;49m\u001b[38;5;124;43ma\u001b[39;49m\u001b[38;5;124;43m'\u001b[39;49m\u001b[43m]\u001b[49m\u001b[43m,\u001b[49m\u001b[43m \u001b[49m\u001b[43mb\u001b[49m\u001b[38;5;241;43m=\u001b[39;49m\u001b[43mP\u001b[49m\u001b[43m[\u001b[49m\u001b[38;5;124;43m'\u001b[39;49m\u001b[38;5;124;43mb\u001b[39;49m\u001b[38;5;124;43m'\u001b[39;49m\u001b[43m]\u001b[49m\u001b[43m,\u001b[49m\u001b[43m \u001b[49m\u001b[43md\u001b[49m\u001b[38;5;241;43m=\u001b[39;49m\u001b[43mP\u001b[49m\u001b[43m[\u001b[49m\u001b[38;5;124;43m'\u001b[39;49m\u001b[38;5;124;43md\u001b[39;49m\u001b[38;5;124;43m'\u001b[39;49m\u001b[43m]\u001b[49m\u001b[43m)\u001b[49m\n\u001b[1;32m     35\u001b[0m I_save[t, :] \u001b[38;5;241m=\u001b[39m copy\u001b[38;5;241m.\u001b[39mdeepcopy(I)\n\u001b[1;32m     36\u001b[0m H_save[t, :] \u001b[38;5;241m=\u001b[39m copy\u001b[38;5;241m.\u001b[39mdeepcopy(H)\n",
      "File \u001b[0;32m/home/computer_classes/MSB1013_ComputationalNeuroscience/Neurons_Simulations/DMF_model.py:23\u001b[0m, in \u001b[0;36mDMF_sim.<locals>.f\u001b[0;34m(h, a, b, d)\u001b[0m\n\u001b[1;32m     20\u001b[0m \u001b[38;5;28;01mdef\u001b[39;00m \u001b[38;5;21mf\u001b[39m(h, a, b, d):\n\u001b[1;32m     21\u001b[0m     \u001b[38;5;66;03m# gain function\u001b[39;00m\n\u001b[1;32m     22\u001b[0m     h \u001b[38;5;241m=\u001b[39m np\u001b[38;5;241m.\u001b[39mfloat128(h)\n\u001b[0;32m---> 23\u001b[0m     \u001b[38;5;28;01mreturn\u001b[39;00m (a \u001b[38;5;241m*\u001b[39m h \u001b[38;5;241m-\u001b[39m b) \u001b[38;5;241m/\u001b[39m (\u001b[38;5;241m1\u001b[39m \u001b[38;5;241m-\u001b[39m np\u001b[38;5;241m.\u001b[39mexp(\u001b[38;5;241;43m-\u001b[39;49m\u001b[43md\u001b[49m\u001b[43m \u001b[49m\u001b[38;5;241;43m*\u001b[39;49m\u001b[43m \u001b[49m\u001b[43m(\u001b[49m\u001b[43ma\u001b[49m\u001b[43m \u001b[49m\u001b[38;5;241;43m*\u001b[39;49m\u001b[43m \u001b[49m\u001b[43mh\u001b[49m\u001b[43m \u001b[49m\u001b[38;5;241;43m-\u001b[39;49m\u001b[43m \u001b[49m\u001b[43mb\u001b[49m\u001b[43m)\u001b[49m))\n",
      "\u001b[0;31mKeyboardInterrupt\u001b[0m: "
     ]
    }
   ],
   "source": [
    "import numpy as np\n",
    "import copy\n",
    "from itertools import product\n",
    "import scipy as sp\n",
    "import pylab as plt\n",
    "\n",
    "from scipy.stats import gamma\n",
    "\n",
    "from DMF_model import DMF_sim, DMF_parameters\n",
    "\n",
    "\n",
    "def HRF(times):\n",
    "    \"\"\" Return values for HRF at given times \"\"\"\n",
    "    # Gamma pdf for the peak\n",
    "    peak_values = gamma.pdf(times, 6)\n",
    "    # Gamma pdf for the undershoot\n",
    "    undershoot_values = gamma.pdf(times, 12)\n",
    "    # Combine them\n",
    "    values = peak_values - 0.35 * undershoot_values\n",
    "    # Scale max to 0.6\n",
    "    return values / np.max(values) * 0.6    \n",
    "    \n",
    "    # DMF parameters\n",
    "P = {}\n",
    "P = DMF_parameters(P)\n",
    "P['sigma'] = 0.02  # no noise\n",
    "\n",
    "T  = 30     # simulation time\n",
    "dt = 1e-4   # integration step\n",
    "P['T'] = T\n",
    "\n",
    "# layer specific external input\n",
    "stim_start = int(10/dt)    # start of stimulation\n",
    "stim_end   = int(20/dt)    # end of stimulation\n",
    "\n",
    "# Define the possible values for each input intensity.\n",
    "valuesI = [50, 100, 150, 200, 250, 300]\n",
    "valuesLayer = range(8)\n",
    "\n",
    "# Create an array of all possible combinations for each input\n",
    "input_combinations = list(product(valuesI, repeat=2))\n",
    "layer_combinations = list(product(valuesLayer, repeat=2))\n",
    "\n",
    "# Initialize arrays to store the results\n",
    "Y_results = []\n",
    "\n",
    "for i in range(len(input_combinations)):\n",
    "    # Update the U array based on the current population_combinations\n",
    "    U = np.zeros((int(T/dt), P['M']))\n",
    "    current_input_combination = input_combinations[i]    \n",
    "    for j in range(len(layer_combinations)):\n",
    "        current_layer_combination = layer_combinations[j]\n",
    "        U[stim_start:stim_end, current_layer_combination[0]] = current_input_combination[0]\n",
    "        U[stim_start:stim_end, current_layer_combination[1]] = current_input_combination[1]\n",
    "         # Simulate\n",
    "        I, H, F = DMF_sim(U, P)     # I - input current, H - membrane potential, F - firing rate\n",
    "        Y = I[int(1/dt):, :] - np.mean(I[int(0.5/dt):int(1/dt), :], axis=0)  # deviation from baseline during stimulation (and remove initial transient)\n",
    "        Y = (Y - np.min(Y)) / (np.max(Y) - np.min(Y)) * 2 - 1  # normalize Y between -1 and 1\n",
    "\n",
    "        # Append the Y values to the results\n",
    "        Y_results.append(Y)\n",
    "\n",
    "Y_results_array = np.array(Y_results)"
   ]
  },
  {
   "cell_type": "code",
   "execution_count": 26,
   "id": "5dd55ca1-f7d0-419b-9536-d7e6d9985be7",
   "metadata": {},
   "outputs": [
    {
     "name": "stdout",
     "output_type": "stream",
     "text": [
      "range(0, 36)\n"
     ]
    }
   ],
   "source": [
    "a = range(len(input_combinations))\n",
    "print(a)"
   ]
  },
  {
   "cell_type": "code",
   "execution_count": 42,
   "id": "d8686424-2a0b-4974-9a39-7412539d403d",
   "metadata": {},
   "outputs": [
    {
     "ename": "SyntaxError",
     "evalue": "invalid syntax (1341353130.py, line 12)",
     "output_type": "error",
     "traceback": [
      "\u001b[0;36m  Cell \u001b[0;32mIn[47], line 12\u001b[0;36m\u001b[0m\n\u001b[0;31m    a.class\u001b[0m\n\u001b[0m      ^\u001b[0m\n\u001b[0;31mSyntaxError\u001b[0m\u001b[0;31m:\u001b[0m invalid syntax\n"
     ]
    }
   ],
   "source": [
    "from itertools import product\n",
    "\n",
    "valuesI = [50, 100, 150, 200, 250, 300]\n",
    "input_combinations = list(product(valuesI, repeat=2))\n",
    "a = list(input_combinations)\n",
    "b = len(a)\n",
    "c = input_combinations[3]\n",
    "U = [0]*40\n",
    "for i in range(len(input_combinations)):\n",
    "    U[i] = input_combinations[i]\n",
    "    \n",
    "print(a[3])"
   ]
  },
  {
   "cell_type": "code",
   "execution_count": 50,
   "id": "95390e76-7d73-4804-9753-1c2c7faf4a8a",
   "metadata": {},
   "outputs": [
    {
     "data": {
      "text/plain": [
       "(81, 490000, 8)"
      ]
     },
     "execution_count": 50,
     "metadata": {},
     "output_type": "execute_result"
    }
   ],
   "source": [
    "Y_results_array.shape\n"
   ]
  },
  {
   "cell_type": "code",
   "execution_count": 51,
   "id": "5fb9c3ca-0221-4c17-a1a2-823af1c64d2c",
   "metadata": {},
   "outputs": [
    {
     "name": "stdout",
     "output_type": "stream",
     "text": [
      "[[0. 0. 0. ... 0. 0. 0.]\n",
      " [0. 0. 0. ... 0. 0. 0.]\n",
      " [0. 0. 0. ... 0. 0. 0.]\n",
      " ...\n",
      " [0. 0. 0. ... 0. 0. 0.]\n",
      " [0. 0. 0. ... 0. 0. 0.]\n",
      " [0. 0. 0. ... 0. 0. 0.]]\n"
     ]
    }
   ],
   "source": [
    "print(U)"
   ]
  },
  {
   "cell_type": "markdown",
   "id": "6c935c8d-45c6-4489-9e92-b391d089971d",
   "metadata": {},
   "source": [
    "Current: NU, more combinations. input ranges from 0 to 300 in incrememnts of possibly 25mA? add noise with the same combinations, sample around the value of th einput (randomly sampled as a normal distribution), \n",
    "\n",
    "Alex's notes:\n",
    "- The recording matrix needs three dimensions. Condition, Layer and Timestep of the simulation. \n",
    "- Start from 0 firing rate to 300. The intensity should be from 50 to 300 picoA.\n",
    "\n",
    "- Simulating each condition severlat times.\n",
    "- Randomize the input intensity around a normal distribution for each point. \n",
    "\t- So if the algorithm says that the input for the function is 100, instead it is:\n",
    "\t- I = 100 +- Normal Dist around 100. The error is for us to decide. Think of it ourselves. Depends on what the length of the steps are. "
   ]
  },
  {
   "cell_type": "markdown",
   "id": "9af97d67-0292-4b03-ae89-5da9eff614ff",
   "metadata": {},
   "source": [
    "Ang's notes:\n",
    "- reduce the stimulation time (10 s) porribly start at 10 finish at 15? or 12?\n",
    "- add noise to the input by creating random value dx (+-(0 to 10?), save that in current_input\n",
    "- new noise every iteration? or every time step?\n"
   ]
  }
 ],
 "metadata": {
  "kernelspec": {
   "display_name": "Python 3 (ipykernel)",
   "language": "python",
   "name": "python3"
  },
  "language_info": {
   "codemirror_mode": {
    "name": "ipython",
    "version": 3
   },
   "file_extension": ".py",
   "mimetype": "text/x-python",
   "name": "python",
   "nbconvert_exporter": "python",
   "pygments_lexer": "ipython3",
   "version": "3.9.12"
  }
 },
 "nbformat": 4,
 "nbformat_minor": 5
}
